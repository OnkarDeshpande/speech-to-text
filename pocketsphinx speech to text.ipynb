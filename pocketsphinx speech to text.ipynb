{
 "cells": [
  {
   "cell_type": "code",
   "execution_count": 3,
   "metadata": {
    "collapsed": false
   },
   "outputs": [],
   "source": [
    "#!/usr/bin/env python\n",
    "from os import environ, path\n",
    "\n",
    "from pocketsphinx.pocketsphinx import *\n",
    "from sphinxbase.sphinxbase import *\n",
    "\n",
    "MODELDIR = \"D:/projects/speech to text/pocketsphinx/pocketsphinx/model/\"\n",
    "wav_file = \"D:/projects/speech to text/sample_speech_covrt.wav\"\n",
    "\n",
    "# Create a decoder with certain model\n",
    "config = Decoder.default_config()\n",
    "config.set_string('-hmm', path.join(MODELDIR, 'en-us/en-us'))\n",
    "config.set_string('-lm', path.join(MODELDIR, 'en-us/en-us.lm.bin'))\n",
    "config.set_string('-dict', path.join(MODELDIR, 'en-us/cmudict-en-us.dict'))\n",
    "decoder = Decoder(config)\n",
    "\n",
    "# Decode streaming data.\n",
    "# decoder = Decoder(config)\n",
    "# decoder.start_utt()\n",
    "# stream = open(path.join(DATADIR, 'goforward.raw'), 'rb')\n",
    "# while True:\n",
    "#   buf = stream.read(1024)\n",
    "#   if buf:\n",
    "#     decoder.process_raw(buf, False, False)\n",
    "#   else:\n",
    "#     break\n",
    "# decoder.end_utt()\n",
    "# print ('Best hypothesis segments: ', [seg.word for seg in decoder.seg()])"
   ]
  },
  {
   "cell_type": "code",
   "execution_count": 4,
   "metadata": {
    "collapsed": false
   },
   "outputs": [
    {
     "data": {
      "text/plain": [
       "[None,\n",
       " None,\n",
       " None,\n",
       " None,\n",
       " None,\n",
       " None,\n",
       " None,\n",
       " None,\n",
       " None,\n",
       " None,\n",
       " None,\n",
       " None,\n",
       " None,\n",
       " None,\n",
       " None,\n",
       " None,\n",
       " None,\n",
       " None,\n",
       " None,\n",
       " None,\n",
       " None,\n",
       " None]"
      ]
     },
     "execution_count": 4,
     "metadata": {},
     "output_type": "execute_result"
    }
   ],
   "source": [
    "# decoder.start_utt()\n",
    "# import wave\n",
    "# stream = open(wav_file, \"rb\")\n",
    "# while True:\n",
    "#     buf = stream.read()\n",
    "#     if buf:\n",
    "#         decoder.process_raw(buf, False, False)\n",
    "#     else:\n",
    "#         break\n",
    "# decoder.end_utt()\n",
    "# words = [words.append(seg.word) for seg in decoder.seg()]\n",
    "\n",
    "decoder.start_utt()\n",
    "stream = open(wav_file, \"rb\")\n",
    "while True:\n",
    "    buf = stream.read()\n",
    "    if buf:\n",
    "        decoder.process_raw(buf, False, False)\n",
    "    else:\n",
    "        break\n",
    "decoder.end_utt()\n",
    "words = []\n",
    "[words.append(seg.word) for seg in decoder.seg()]"
   ]
  },
  {
   "cell_type": "code",
   "execution_count": 1,
   "metadata": {
    "collapsed": false
   },
   "outputs": [
    {
     "data": {
      "text/plain": [
       "u'D:\\\\projects\\\\speech to text'"
      ]
     },
     "execution_count": 1,
     "metadata": {},
     "output_type": "execute_result"
    }
   ],
   "source": [
    "pwd"
   ]
  },
  {
   "cell_type": "code",
   "execution_count": 46,
   "metadata": {
    "collapsed": false
   },
   "outputs": [],
   "source": [
    "# from pocketsphinx import AudioFile\n",
    "# for phrase in AudioFile(): \n",
    "#     print(phrase)\n",
    "\n",
    "# import pocketsphinx as ps\n",
    "\n",
    "# # speechRec = ps.Decoder()\n",
    "# decoder.start_utt()\n",
    "# wavFile = file(wav_file,'rb')\n",
    "# wavFile.seek(44)\n",
    "# decoder.process_raw(wav_file, False, False)\n",
    "# decoder.end_utt()\n",
    "# result = [result.append(seg.word) for seg in decoder.seg()]"
   ]
  },
  {
   "cell_type": "code",
   "execution_count": 26,
   "metadata": {
    "collapsed": false
   },
   "outputs": [
    {
     "name": "stdout",
     "output_type": "stream",
     "text": [
      "what\n",
      "when when believed that\n",
      "what what hope that but in the crew cry\n",
      "crew when\n",
      "whoa whoa\n",
      "and you and it hit up to what you cry\n"
     ]
    }
   ],
   "source": [
    "import os\n",
    "from pocketsphinx import AudioFile, get_model_path, get_data_path\n",
    "\n",
    "model_path = get_model_path()\n",
    "# data_path = 'D:/projects/speech to text/pocketsphinx/pocketsphinx/test/data/'\n",
    "data_path = 'D:/projects/speech to text/'\n",
    "\n",
    "config = {\n",
    "#     'verbose': False,\n",
    "    'audio_file': os.path.join(data_path, 'kimberly.wav'),\n",
    "#     'buffer_size': 2048,\n",
    "#     'no_search': False,\n",
    "#     'full_utt': False,\n",
    "    'hmm': os.path.join(model_path, 'en-us'),\n",
    "    'lm': os.path.join(model_path, 'en-us.lm.bin'),\n",
    "    'dict': os.path.join(model_path, 'cmudict-en-us.dict')\n",
    "#     'hmm': path.join(MODELDIR, 'en-us/en-us'),\n",
    "#     'lm': path.join(MODELDIR, 'en-us/en-us.lm.bin'),\n",
    "#     'dict': path.join(MODELDIR, 'en-us/cmudict-en-us.dict')\n",
    "}\n",
    "\n",
    "audio = AudioFile(**config)\n",
    "for phrase in audio:\n",
    "    print(phrase)"
   ]
  },
  {
   "cell_type": "code",
   "execution_count": null,
   "metadata": {
    "collapsed": false
   },
   "outputs": [],
   "source": []
  },
  {
   "cell_type": "code",
   "execution_count": 2,
   "metadata": {
    "collapsed": true
   },
   "outputs": [],
   "source": []
  },
  {
   "cell_type": "code",
   "execution_count": 8,
   "metadata": {
    "collapsed": false
   },
   "outputs": [],
   "source": []
  },
  {
   "cell_type": "code",
   "execution_count": 9,
   "metadata": {
    "collapsed": false
   },
   "outputs": [
    {
     "data": {
      "text/plain": [
       "'D:/projects/speech to text/kimberly.wav'"
      ]
     },
     "execution_count": 9,
     "metadata": {},
     "output_type": "execute_result"
    }
   ],
   "source": [
    "AUDIO_FILE"
   ]
  },
  {
   "cell_type": "code",
   "execution_count": 10,
   "metadata": {
    "collapsed": false
   },
   "outputs": [
    {
     "name": "stdout",
     "output_type": "stream",
     "text": [
      "Sphinx thinks you said hi i'm tenderly one of the available high-quality text is speech places select download now to install my voice\n"
     ]
    }
   ],
   "source": []
  },
  {
   "cell_type": "code",
   "execution_count": null,
   "metadata": {
    "collapsed": true
   },
   "outputs": [],
   "source": [
    "import speech_recognition as sr\n",
    "\n"
   ]
  }
 ],
 "metadata": {
  "anaconda-cloud": {},
  "kernelspec": {
   "display_name": "Python [default]",
   "language": "python",
   "name": "python2"
  },
  "language_info": {
   "codemirror_mode": {
    "name": "ipython",
    "version": 2
   },
   "file_extension": ".py",
   "mimetype": "text/x-python",
   "name": "python",
   "nbconvert_exporter": "python",
   "pygments_lexer": "ipython2",
   "version": "2.7.12"
  }
 },
 "nbformat": 4,
 "nbformat_minor": 1
}
