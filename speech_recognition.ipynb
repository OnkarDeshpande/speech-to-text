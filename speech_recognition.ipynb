{
 "cells": [
  {
   "cell_type": "code",
   "execution_count": 6,
   "metadata": {
    "collapsed": true
   },
   "outputs": [],
   "source": [
    "import speech_recognition as sr\n",
    "from os import path"
   ]
  },
  {
   "cell_type": "code",
   "execution_count": 7,
   "metadata": {
    "collapsed": true
   },
   "outputs": [],
   "source": [
    "wav_file = \"D:/projects/speech to text/\"\n",
    "\n",
    "AUDIO_FILE = path.join(wav_file, \"kimberly.wav\")"
   ]
  },
  {
   "cell_type": "code",
   "execution_count": 8,
   "metadata": {
    "collapsed": false
   },
   "outputs": [
    {
     "name": "stdout",
     "output_type": "stream",
     "text": [
      "Sphinx thinks you said: hi i'm tenderly one of the available high-quality text is speech places select download now to install my voice\n"
     ]
    }
   ],
   "source": [
    "r = sr.Recognizer()\n",
    "with sr.AudioFile(AUDIO_FILE) as source:\n",
    "    audio = r.record(source) # read the entire audio file\n",
    "\n",
    "# recognize speech using Sphinx\n",
    "try:\n",
    "    print(\"Sphinx thinks you said: \" + r.recognize_sphinx(audio))\n",
    "except sr.UnknownValueError:\n",
    "    print(\"Sphinx could not understand audio\")\n",
    "except sr.RequestError as e:\n",
    "    print(\"Sphinx error; {0}\".format(e))"
   ]
  },
  {
   "cell_type": "code",
   "execution_count": null,
   "metadata": {
    "collapsed": true
   },
   "outputs": [],
   "source": [
    "# obtain audio from the microphone\n",
    "r = sr.Recognizer()\n",
    "with sr.Microphone() as source:\n",
    "    print(\"Say something!\")\n",
    "    audio = r.listen(source)\n",
    "\n",
    "# write audio to a WAV file\n",
    "with open(\"microphone-results.wav\", \"wb\") as f:\n",
    "    f.write(audio.get_wav_data())"
   ]
  },
  {
   "cell_type": "code",
   "execution_count": 1,
   "metadata": {
    "collapsed": true
   },
   "outputs": [],
   "source": [
    "from nltk.tokenize import sent_tokenize,word_tokenize\n",
    "from nltk.corpus import stopwords\n",
    "from collections import defaultdict\n",
    "from string import punctuation\n",
    "from heapq import nlargest"
   ]
  },
  {
   "cell_type": "code",
   "execution_count": 2,
   "metadata": {
    "collapsed": true
   },
   "outputs": [],
   "source": [
    "class FrequencySummarizer:\n",
    "    def __init__(self, min_cut=0.1, max_cut=0.9):\n",
    "        \"\"\"\n",
    "         Initilize the text summarizer.\n",
    "         Words that have a frequency term lower than min_cut \n",
    "         or higer than max_cut will be ignored.\n",
    "        \"\"\"\n",
    "        self._min_cut = min_cut\n",
    "        self._max_cut = max_cut \n",
    "        self._stopwords = set(stopwords.words('english') + list(punctuation))\n",
    "\n",
    "    def _compute_frequencies(self, word_sent):\n",
    "        \"\"\" \n",
    "          Compute the frequency of each of word.\n",
    "          Input: \n",
    "           word_sent, a list of sentences already tokenized.\n",
    "          Output: \n",
    "           freq, a dictionary where freq[w] is the frequency of w.\n",
    "        \"\"\"\n",
    "        freq = defaultdict(int)\n",
    "        for s in word_sent:\n",
    "            for word in s:\n",
    "                if word not in self._stopwords:\n",
    "                    freq[word] += 1\n",
    "        # frequencies normalization and fitering\n",
    "        m = float(max(freq.values()))\n",
    "        for w in freq.keys():\n",
    "            freq[w] = freq[w]/m\n",
    "            if freq[w] >= self._max_cut or freq[w] <= self._min_cut:\n",
    "                del freq[w]\n",
    "        return freq\n",
    "\n",
    "    def summarize(self, text, n):\n",
    "        \"\"\"\n",
    "          Return a list of n sentences \n",
    "          which represent the summary of text.\n",
    "        \"\"\"\n",
    "        sents = sent_tokenize(text)\n",
    "        assert n <= len(sents)\n",
    "        word_sent = [word_tokenize(s.lower()) for s in sents]\n",
    "        self._freq = self._compute_frequencies(word_sent)\n",
    "        ranking = defaultdict(int)\n",
    "        for i,sent in enumerate(word_sent):\n",
    "            for w in sent:\n",
    "                if w in self._freq:\n",
    "                    ranking[i] += self._freq[w]\n",
    "        sents_idx = self._rank(ranking, n)    \n",
    "        return [sents[j] for j in sents_idx]\n",
    "\n",
    "    def _rank(self, ranking, n):\n",
    "        \"\"\" return the first n sentences with highest ranking \"\"\"\n",
    "        return nlargest(n, ranking, key=ranking.get)"
   ]
  },
  {
   "cell_type": "code",
   "execution_count": 3,
   "metadata": {
    "collapsed": false
   },
   "outputs": [],
   "source": [
    "import urllib2\n",
    "from bs4 import BeautifulSoup\n",
    "\n",
    "def get_only_text(url):\n",
    "     \"\"\" \n",
    "      return the title and the text of the article\n",
    "      at the specified url\n",
    "     \"\"\"\n",
    "     page = urllib2.urlopen(url).read().decode('utf8')\n",
    "     soup = BeautifulSoup(page)\n",
    "     text = ' '.join(map(lambda p: p.text, soup.find_all('p')))\n",
    "     return soup.title.text, text"
   ]
  },
  {
   "cell_type": "code",
   "execution_count": 5,
   "metadata": {
    "collapsed": false
   },
   "outputs": [
    {
     "name": "stdout",
     "output_type": "stream",
     "text": [
      "----------------------------------\n",
      "Theresa May promises mental health care overhaul - BBC News\n",
      "* In the speech, Mrs May announced: Mrs May said that mental health had been \"dangerously disregarded\" as secondary to physical health and changing that will go \"right to the heart of our humanity\".\n",
      "* Simon Walker, director general at the Institute of Directors, said: \"Mental health problems touch us all, and employers have a real role to play ensuring the health - physical and mental - of their workforce.\"\n",
      "----------------------------------\n",
      "Golden Globes 2017: La La Land sweeps awards - BBC News\n",
      "* Affleck was named best actor in a film drama for his role in Manchester By The Sea and French star Huppert was the surprise winner of the award for best film drama actress.\n",
      "* The talk show host joked that the Golden Globes ceremony was \"one of the few places left where America still honours the popular vote\" - a reference to Donald Trump beating Hillary Clinton in the recent US election despite getting fewer votes overall.\n",
      "----------------------------------\n",
      "Donald Trump hits back after Meryl Streep speech at Golden Globes - BBC News\n",
      "* The obstacles to romance when you're 4ft 7in What you need to know as 24-hour strike hits central London The college boy who led a gang in starving North Korea Female illustrators unite to promote diversity in art The places where people are allowed to take drugs Hollywood rolls out red carpet for biggest names in film and TV  People in their 20s on what they wished they had known How one woman created a $60m breakfast cereal business The businessman who sponsored 58 Syrian families\n",
      "*  Share this with Email Facebook Messenger Messenger Twitter Pinterest WhatsApp LinkedIn Copy this link Donald Trump has hit back over Meryl Streep's criticism of him as she received a lifetime achievement award at the Golden Globes.\n",
      "----------------------------------\n",
      "Kim Kardashian West: Several held over Paris robbery - BBC News\n",
      "* The obstacles to romance when you're 4ft 7in What you need to know as 24-hour strike hits central London The college boy who led a gang in starving North Korea Female illustrators unite to promote diversity in art The places where people are allowed to take drugs Hollywood rolls out red carpet for biggest names in film and TV  People in their 20s on what they wished they had known How one woman created a $60m breakfast cereal business The businessman who sponsored 58 Syrian families\n",
      "* The 36-year-old mother-of-two, who became a household name thanks to the reality TV series, was in the French capital at the time of the robbery for Paris Fashion Week, with her mother Kris Jenner and her sister Kendall Jenner.\n",
      "----------------------------------\n",
      "Lloyds Bank: UK government no longer top shareholder - BBC News\n",
      "* The obstacles to romance when you're 4ft 7in What you need to know as 24-hour strike hits central London The college boy who led a gang in starving North Korea Female illustrators unite to promote diversity in art The places where people are allowed to take drugs Hollywood rolls out red carpet for biggest names in film and TV  People in their 20s on what they wished they had known How one woman created a $60m breakfast cereal business The businessman who sponsored 58 Syrian families\n",
      "* \"Confirmation that we are no longer the largest shareholder in the bank and that we've now recouped over £18bn for UK taxpayers is further evidence that we are on track to recover all of the £20bn injected into the bank during the financial crisis.\"\n"
     ]
    }
   ],
   "source": [
    "feed_xml = urllib2.urlopen('http://feeds.bbci.co.uk/news/rss.xml').read()\n",
    "feed = BeautifulSoup(feed_xml.decode('utf8'))\n",
    "to_summarize = map(lambda p: p.text, feed.find_all('guid'))\n",
    "\n",
    "fs = FrequencySummarizer()\n",
    "for article_url in to_summarize[:5]:\n",
    "  title, text = get_only_text(article_url)\n",
    "  print '----------------------------------'\n",
    "  print title\n",
    "  for s in fs.summarize(text, 2):\n",
    "   print '*',s"
   ]
  },
  {
   "cell_type": "code",
   "execution_count": null,
   "metadata": {
    "collapsed": true
   },
   "outputs": [],
   "source": []
  }
 ],
 "metadata": {
  "anaconda-cloud": {},
  "kernelspec": {
   "display_name": "Python [default]",
   "language": "python",
   "name": "python2"
  },
  "language_info": {
   "codemirror_mode": {
    "name": "ipython",
    "version": 2
   },
   "file_extension": ".py",
   "mimetype": "text/x-python",
   "name": "python",
   "nbconvert_exporter": "python",
   "pygments_lexer": "ipython2",
   "version": "2.7.12"
  }
 },
 "nbformat": 4,
 "nbformat_minor": 1
}
